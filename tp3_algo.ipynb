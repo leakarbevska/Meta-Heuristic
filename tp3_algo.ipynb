{
 "cells": [
  {
   "cell_type": "markdown",
   "metadata": {},
   "source": [
    "# Algo TP3 "
   ]
  },
  {
   "cell_type": "markdown",
   "metadata": {},
   "source": [
    "# Ex 1. Chaine de 0 et 1 qui resoud un UBQP\n",
    "---"
   ]
  },
  {
   "cell_type": "markdown",
   "metadata": {},
   "source": [
    "### Reading Bit file ex `graphe_.txt`"
   ]
  },
  {
   "cell_type": "code",
   "execution_count": 1,
   "metadata": {},
   "outputs": [],
   "source": [
    "# Read file\n",
    "def read_file_ubgp(file_path):\n",
    "    f = open(file_path, \"r\")\n",
    "    \n",
    "    content = f.read()\n",
    "    content = content.replace(\"\\n\", \"\")\n",
    "    content_list = content.split(\" \")\n",
    "    content_list = list(map(int, content_list))\n",
    "    \n",
    "    n = content_list[0]\n",
    "    p = content_list[1]\n",
    "    Q = np.array(content_list[2:])\n",
    "    Q.shape = ((n,n))\n",
    "    \n",
    "    f.close()\n",
    "    return(n,p,Q)"
   ]
  },
  {
   "cell_type": "code",
   "execution_count": 2,
   "metadata": {},
   "outputs": [],
   "source": [
    "import numpy as np\n",
    "\n",
    "def create_rand_bit_vector(n):\n",
    "    return [np.random.choice([0,1]) for i in range(n)]"
   ]
  },
  {
   "cell_type": "markdown",
   "metadata": {},
   "source": [
    "### Neighbours"
   ]
  },
  {
   "cell_type": "code",
   "execution_count": 3,
   "metadata": {},
   "outputs": [],
   "source": [
    "# Unconstrained Binary Quadratic Problem\n",
    "def UBGP(matrix,X):        \n",
    "    #result = np.apply_along_axis((lambda row: row*X), axis=1, arr=matrix).sum(axis=1)\n",
    "    res = 0\n",
    "    for i in range(len(matrix)):\n",
    "        for j in range(len(matrix[0])):\n",
    "            res += matrix[i,j]*X[i]*X[j]\n",
    "        \n",
    "    return res"
   ]
  },
  {
   "cell_type": "code",
   "execution_count": 4,
   "metadata": {},
   "outputs": [],
   "source": [
    "def voisins(s):\n",
    "    voisins = []\n",
    "    temp = []\n",
    "    for i in range(len(s)):\n",
    "        temp = s.copy()\n",
    "        temp[i] = int(not temp[i])\n",
    "        voisins.append(temp) \n",
    "    return voisins"
   ]
  },
  {
   "cell_type": "code",
   "execution_count": 5,
   "metadata": {},
   "outputs": [],
   "source": [
    "def meilleur_voisin(X,p,Q):\n",
    "    solutions  = []\n",
    "    neighbours = []\n",
    "    neighbours = voisins(X)\n",
    "    solutions.append(neighbours[0])\n",
    "    for i in range(1,len(neighbours)):\n",
    "        if(sum(neighbours[i])>=p and UBGP(Q,neighbours[i])==UBGP(Q,solutions[0])):\n",
    "            solutions.append(neighbours[i])\n",
    "        elif(sum(neighbours[i])>=p and UBGP(Q,neighbours[i])<UBGP(Q,solutions[0])):\n",
    "            solutions = []\n",
    "            solutions.append(neighbours[i])\n",
    "        #print(solutions)\n",
    "    randomRow = np.random.randint(len(solutions), size=1)\n",
    "    return (solutions[randomRow[0]])"
   ]
  },
  {
   "cell_type": "code",
   "execution_count": 6,
   "metadata": {},
   "outputs": [],
   "source": [
    "def meilleur(s1, s2, Q): #MIN OPT?\n",
    "    return(UBGP(Q,s1)<UBGP(Q,s2))"
   ]
  },
  {
   "cell_type": "code",
   "execution_count": 7,
   "metadata": {},
   "outputs": [],
   "source": [
    "def voisins_non_Tabou(s,tabou):\n",
    "    voisins = []\n",
    "    temp = []\n",
    "    for i in range(len(s)):\n",
    "        temp = s.copy()\n",
    "        temp[i] = int(not temp[i])\n",
    "        if(temp not in tabou):\n",
    "            voisins.append(temp) \n",
    "    return voisins"
   ]
  },
  {
   "cell_type": "code",
   "execution_count": 8,
   "metadata": {},
   "outputs": [],
   "source": [
    "def meilleur_voisin_non_tabou(X,Q,p,t):\n",
    "    solutions  = []\n",
    "    neighbours = []\n",
    "    neighbours = voisins_non_Tabou(X,t)\n",
    "    s = neighbours[0]\n",
    "    for i in range(1,len(neighbours)):\n",
    "        if(UBGP(Q,neighbours[i])<=UBGP(Q,s)):\n",
    "            s = neighbours[i]\n",
    "    return s"
   ]
  },
  {
   "cell_type": "markdown",
   "metadata": {},
   "source": [
    "### Algorithms "
   ]
  },
  {
   "cell_type": "code",
   "execution_count": 9,
   "metadata": {},
   "outputs": [],
   "source": [
    "def steepest_hill_climbing(s,Q,p,MAX_depl):\n",
    "    nb_depl = 0\n",
    "    stop = False\n",
    "    print(\"Solution inital : \", s)\n",
    "    while(True):\n",
    "        new_s = meilleur_voisin(s,p,Q)\n",
    "        print(\"meilleur voisin \",nb_depl,\" : \",new_s,\" val \",UBGP(Q,new_s))\n",
    "        if(meilleur(new_s,s,Q)):\n",
    "            s = new_s\n",
    "        else:\n",
    "            stop = True # optimum local\n",
    "        nb_depl = nb_depl + 1\n",
    "        if(stop or nb_depl == MAX_depl):\n",
    "            break\n",
    "    print(\"Solution atteinte \",s,\", avec nb deplacement: \", nb_depl)\n",
    "    return s"
   ]
  },
  {
   "cell_type": "code",
   "execution_count": 95,
   "metadata": {},
   "outputs": [],
   "source": [
    "from queue import Queue\n",
    "\n",
    "def tabou(s,Q,p,MAX_depl,k):\n",
    "    #tabou = Queue(maxsize = k)\n",
    "    tabou = []\n",
    "    nb_depl = 0\n",
    "    msol = s\n",
    "    stop = False\n",
    "    print(\"Solution inital : \", s)\n",
    "    while(True):\n",
    "        if(voisins_non_Tabou(s,tabou)): # not empty\n",
    "            new_s = meilleur_voisin_non_tabou(s,Q,p,tabou) #plus de voisin non tabou\n",
    "            print(\"meilleur voisin \", nb_depl,\" : \",new_s,\" val \",UBGP(Q,new_s))\n",
    "        else:\n",
    "            stop = True\n",
    "        #tabou.put(s)\n",
    "        s = new_s\n",
    "        tabou.append(s)\n",
    "        tabou = tabou[:k] #max size \n",
    "        if(meilleur(new_s, msol, Q)):\n",
    "            msol = new_s #stockage meilleure solution courante\n",
    "        nb_depl = nb_depl + 1\n",
    "        if(stop or nb_depl == MAX_depl):\n",
    "            break\n",
    "    print(\"Solution atteinte \",msol,\", avec nb deplacement: \", nb_depl,\"\\n Tabou : [\",tabou,\"]\")\n",
    "    return msol        "
   ]
  },
  {
   "cell_type": "markdown",
   "metadata": {},
   "source": [
    "### Main Bit"
   ]
  },
  {
   "cell_type": "code",
   "execution_count": 97,
   "metadata": {},
   "outputs": [
    {
     "name": "stdout",
     "output_type": "stream",
     "text": [
      "-----------STEEPEST HILL CLIMB---------\n",
      "Essais  0\n",
      "Solution inital :  [0, 0, 0, 1, 1, 1, 0, 0, 1, 1, 0, 0, 0, 1, 0]\n",
      "meilleur voisin  0  :  [0, 0, 0, 1, 0, 1, 0, 0, 1, 1, 0, 0, 0, 1, 0]  val  4\n",
      "meilleur voisin  1  :  [0, 0, 0, 1, 0, 0, 0, 0, 1, 1, 0, 0, 0, 1, 0]  val  -8\n",
      "meilleur voisin  2  :  [0, 0, 1, 1, 0, 0, 0, 0, 1, 1, 0, 0, 0, 1, 0]  val  -12\n",
      "meilleur voisin  3  :  [0, 0, 1, 0, 0, 0, 0, 0, 1, 1, 0, 0, 0, 1, 0]  val  -16\n",
      "meilleur voisin  4  :  [1, 0, 1, 0, 0, 0, 0, 0, 1, 1, 0, 0, 0, 1, 0]  val  -16\n",
      "Solution atteinte  [0, 0, 1, 0, 0, 0, 0, 0, 1, 1, 0, 0, 0, 1, 0] , avec nb deplacement:  5\n",
      "Essais  1\n",
      "Solution inital :  [0, 0, 1, 1, 1, 1, 1, 1, 1, 0, 1, 0, 0, 1, 0]\n",
      "meilleur voisin  0  :  [0, 0, 1, 1, 0, 1, 1, 1, 1, 0, 1, 0, 0, 1, 0]  val  40\n",
      "meilleur voisin  1  :  [0, 0, 1, 1, 0, 0, 1, 1, 1, 0, 1, 0, 0, 1, 0]  val  20\n",
      "meilleur voisin  2  :  [0, 0, 1, 1, 0, 0, 1, 0, 1, 0, 1, 0, 0, 1, 0]  val  0\n",
      "meilleur voisin  3  :  [0, 0, 1, 1, 0, 0, 0, 0, 1, 0, 1, 0, 0, 1, 0]  val  -12\n",
      "meilleur voisin  4  :  [0, 0, 1, 1, 0, 0, 0, 0, 1, 0, 1, 0, 0, 0, 0]  val  -16\n",
      "meilleur voisin  5  :  [0, 0, 1, 1, 0, 0, 0, 0, 1, 0, 1, 0, 0, 0, 1]  val  -12\n",
      "Solution atteinte  [0, 0, 1, 1, 0, 0, 0, 0, 1, 0, 1, 0, 0, 0, 0] , avec nb deplacement:  6\n",
      "Essais  2\n",
      "Solution inital :  [1, 0, 1, 0, 0, 1, 1, 0, 1, 0, 1, 0, 1, 1, 0]\n",
      "meilleur voisin  0  :  [1, 0, 1, 0, 0, 1, 1, 0, 1, 0, 1, 0, 0, 1, 0]  val  8\n",
      "meilleur voisin  1  :  [1, 0, 1, 0, 0, 0, 1, 0, 1, 0, 1, 0, 0, 1, 0]  val  -4\n",
      "meilleur voisin  2  :  [1, 0, 1, 0, 0, 0, 1, 0, 0, 0, 1, 0, 0, 1, 0]  val  -8\n",
      "meilleur voisin  3  :  [1, 0, 1, 0, 0, 0, 1, 0, 0, 0, 1, 0, 0, 0, 0]  val  -12\n",
      "meilleur voisin  4  :  [0, 0, 1, 0, 0, 0, 1, 0, 0, 0, 1, 0, 0, 0, 0]  val  -12\n",
      "Solution atteinte  [1, 0, 1, 0, 0, 0, 1, 0, 0, 0, 1, 0, 0, 0, 0] , avec nb deplacement:  5\n",
      "Essais  3\n",
      "Solution inital :  [1, 0, 1, 0, 0, 1, 1, 1, 1, 0, 0, 0, 0, 0, 1]\n",
      "meilleur voisin  0  :  [1, 0, 1, 0, 0, 1, 1, 1, 0, 0, 0, 0, 0, 0, 1]  val  12\n",
      "meilleur voisin  1  :  [1, 0, 0, 0, 0, 1, 1, 1, 0, 0, 0, 0, 0, 0, 1]  val  -8\n",
      "meilleur voisin  2  :  [1, 0, 0, 0, 0, 1, 1, 0, 0, 0, 0, 0, 0, 0, 1]  val  -12\n",
      "meilleur voisin  3  :  [1, 0, 0, 0, 0, 1, 1, 0, 0, 0, 1, 0, 0, 0, 1]  val  -16\n",
      "meilleur voisin  4  :  [1, 0, 0, 0, 0, 0, 1, 0, 0, 0, 1, 0, 0, 0, 1]  val  -20\n",
      "meilleur voisin  5  :  [1, 0, 0, 0, 1, 0, 1, 0, 0, 0, 1, 0, 0, 0, 1]  val  -16\n",
      "Solution atteinte  [1, 0, 0, 0, 0, 0, 1, 0, 0, 0, 1, 0, 0, 0, 1] , avec nb deplacement:  6\n",
      "Essais  4\n",
      "Solution inital :  [0, 1, 1, 1, 1, 0, 1, 0, 0, 0, 0, 0, 1, 0, 1]\n",
      "meilleur voisin  0  :  [0, 1, 1, 0, 1, 0, 1, 0, 0, 0, 0, 0, 1, 0, 1]  val  8\n",
      "meilleur voisin  1  :  [0, 0, 1, 0, 1, 0, 1, 0, 0, 0, 0, 0, 1, 0, 1]  val  -4\n",
      "meilleur voisin  2  :  [0, 0, 1, 0, 1, 0, 1, 0, 0, 0, 0, 0, 1, 0, 0]  val  -16\n",
      "meilleur voisin  3  :  [0, 0, 1, 0, 1, 0, 1, 0, 0, 0, 0, 1, 1, 0, 0]  val  -20\n",
      "meilleur voisin  4  :  [0, 0, 1, 0, 0, 0, 1, 0, 0, 0, 0, 1, 1, 0, 0]  val  -16\n",
      "Solution atteinte  [0, 0, 1, 0, 1, 0, 1, 0, 0, 0, 0, 1, 1, 0, 0] , avec nb deplacement:  5\n",
      "Essais  5\n",
      "Solution inital :  [1, 0, 0, 1, 0, 0, 0, 1, 1, 1, 1, 0, 1, 0, 1]\n",
      "meilleur voisin  0  :  [1, 0, 0, 1, 0, 0, 0, 1, 1, 1, 1, 0, 0, 0, 1]  val  8\n",
      "meilleur voisin  1  :  [1, 0, 0, 1, 0, 0, 0, 1, 1, 0, 1, 0, 0, 0, 1]  val  -4\n",
      "meilleur voisin  2  :  [1, 0, 0, 1, 0, 0, 0, 0, 1, 0, 1, 0, 0, 0, 1]  val  -16\n",
      "meilleur voisin  3  :  [1, 0, 0, 0, 0, 0, 0, 0, 1, 0, 1, 0, 0, 0, 1]  val  -20\n",
      "meilleur voisin  4  :  [1, 0, 0, 0, 0, 0, 0, 0, 1, 1, 1, 0, 0, 0, 1]  val  -16\n",
      "Solution atteinte  [1, 0, 0, 0, 0, 0, 0, 0, 1, 0, 1, 0, 0, 0, 1] , avec nb deplacement:  5\n",
      "Essais  6\n",
      "Solution inital :  [1, 1, 0, 1, 1, 1, 1, 1, 1, 0, 1, 0, 0, 0, 0]\n",
      "meilleur voisin  0  :  [1, 1, 0, 1, 0, 1, 1, 1, 1, 0, 1, 0, 0, 0, 0]  val  36\n",
      "meilleur voisin  1  :  [1, 1, 0, 1, 0, 1, 0, 1, 1, 0, 1, 0, 0, 0, 0]  val  16\n",
      "meilleur voisin  2  :  [1, 1, 0, 1, 0, 1, 0, 1, 0, 0, 1, 0, 0, 0, 0]  val  4\n",
      "meilleur voisin  3  :  [1, 1, 0, 0, 0, 1, 0, 1, 0, 0, 1, 0, 0, 0, 0]  val  -8\n",
      "meilleur voisin  4  :  [1, 1, 0, 0, 0, 1, 0, 1, 0, 0, 0, 0, 0, 0, 0]  val  -12\n",
      "meilleur voisin  5  :  [1, 1, 0, 0, 0, 1, 0, 1, 0, 1, 0, 0, 0, 0, 0]  val  -16\n",
      "meilleur voisin  6  :  [1, 0, 0, 0, 0, 1, 0, 1, 0, 1, 0, 0, 0, 0, 0]  val  -20\n",
      "meilleur voisin  7  :  [1, 0, 0, 0, 0, 1, 0, 1, 0, 1, 0, 0, 0, 1, 0]  val  -24\n",
      "meilleur voisin  8  :  [1, 0, 0, 0, 0, 1, 0, 1, 0, 0, 0, 0, 0, 1, 0]  val  -20\n",
      "Solution atteinte  [1, 0, 0, 0, 0, 1, 0, 1, 0, 1, 0, 0, 0, 1, 0] , avec nb deplacement:  9\n",
      "Essais  7\n",
      "Solution inital :  [0, 0, 1, 0, 0, 1, 0, 1, 1, 1, 0, 1, 0, 1, 1]\n",
      "meilleur voisin  0  :  [0, 0, 1, 0, 0, 1, 0, 1, 1, 1, 0, 1, 0, 1, 0]  val  20\n",
      "meilleur voisin  1  :  [0, 0, 1, 0, 0, 0, 0, 1, 1, 1, 0, 1, 0, 1, 0]  val  0\n",
      "meilleur voisin  2  :  [0, 0, 1, 0, 0, 0, 0, 1, 0, 1, 0, 1, 0, 1, 0]  val  -12\n",
      "meilleur voisin  3  :  [0, 0, 1, 0, 0, 0, 0, 1, 0, 1, 0, 0, 0, 1, 0]  val  -16\n",
      "meilleur voisin  4  :  [1, 0, 1, 0, 0, 0, 0, 1, 0, 1, 0, 0, 0, 1, 0]  val  -16\n",
      "Solution atteinte  [0, 0, 1, 0, 0, 0, 0, 1, 0, 1, 0, 0, 0, 1, 0] , avec nb deplacement:  5\n",
      "Essais  8\n",
      "Solution inital :  [0, 1, 1, 0, 1, 1, 0, 0, 1, 0, 0, 1, 1, 0, 0]\n",
      "meilleur voisin  0  :  [0, 1, 1, 0, 1, 0, 0, 0, 1, 0, 0, 1, 1, 0, 0]  val  0\n",
      "meilleur voisin  1  :  [0, 0, 1, 0, 1, 0, 0, 0, 1, 0, 0, 1, 1, 0, 0]  val  -12\n",
      "meilleur voisin  2  :  [0, 0, 1, 0, 1, 0, 0, 0, 0, 0, 0, 1, 1, 0, 0]  val  -16\n",
      "meilleur voisin  3  :  [0, 0, 1, 0, 1, 0, 1, 0, 0, 0, 0, 1, 1, 0, 0]  val  -20\n",
      "meilleur voisin  4  :  [0, 0, 1, 0, 1, 0, 1, 0, 0, 0, 0, 1, 0, 0, 0]  val  -16\n",
      "Solution atteinte  [0, 0, 1, 0, 1, 0, 1, 0, 0, 0, 0, 1, 1, 0, 0] , avec nb deplacement:  5\n",
      "Essais  9\n",
      "Solution inital :  [1, 1, 1, 0, 0, 1, 1, 1, 0, 1, 0, 1, 1, 0, 0]\n",
      "meilleur voisin  0  :  [1, 1, 0, 0, 0, 1, 1, 1, 0, 1, 0, 1, 1, 0, 0]  val  20\n",
      "meilleur voisin  1  :  [1, 1, 0, 0, 0, 1, 1, 1, 0, 0, 0, 1, 1, 0, 0]  val  0\n",
      "meilleur voisin  2  :  [0, 1, 0, 0, 0, 1, 1, 1, 0, 0, 0, 1, 1, 0, 0]  val  -8\n",
      "meilleur voisin  3  :  [0, 1, 0, 0, 0, 0, 1, 1, 0, 0, 0, 1, 1, 0, 0]  val  -12\n",
      "meilleur voisin  4  :  [0, 1, 0, 0, 0, 0, 1, 0, 0, 0, 0, 1, 1, 0, 0]  val  -16\n",
      "meilleur voisin  5  :  [0, 1, 0, 0, 1, 0, 1, 0, 0, 0, 0, 1, 1, 0, 0]  val  -12\n",
      "Solution atteinte  [0, 1, 0, 0, 0, 0, 1, 0, 0, 0, 0, 1, 1, 0, 0] , avec nb deplacement:  6\n",
      "[0, 0, 1, 0, 0, 0, 0, 0, 1, 1, 0, 0, 0, 1, 0] :  -16\n",
      "[0, 0, 1, 1, 0, 0, 0, 0, 1, 0, 1, 0, 0, 0, 0] :  -16\n",
      "[1, 0, 1, 0, 0, 0, 1, 0, 0, 0, 1, 0, 0, 0, 0] :  -12\n",
      "[1, 0, 0, 0, 0, 0, 1, 0, 0, 0, 1, 0, 0, 0, 1] :  -20\n",
      "[0, 0, 1, 0, 1, 0, 1, 0, 0, 0, 0, 1, 1, 0, 0] :  -20\n",
      "[1, 0, 0, 0, 0, 0, 0, 0, 1, 0, 1, 0, 0, 0, 1] :  -20\n",
      "[1, 0, 0, 0, 0, 1, 0, 1, 0, 1, 0, 0, 0, 1, 0] :  -24\n",
      "[0, 0, 1, 0, 0, 0, 0, 1, 0, 1, 0, 0, 0, 1, 0] :  -16\n",
      "[0, 0, 1, 0, 1, 0, 1, 0, 0, 0, 0, 1, 1, 0, 0] :  -20\n",
      "[0, 1, 0, 0, 0, 0, 1, 0, 0, 0, 0, 1, 1, 0, 0] :  -16\n",
      "Optimal :  [1, 0, 0, 0, 0, 1, 0, 1, 0, 1, 0, 0, 0, 1, 0] -24\n",
      "-----------TABOU----------\n",
      "Solution inital :  [1, 1, 0, 0, 0, 0, 0, 0, 0, 1, 1, 1, 1, 0, 0]\n",
      "meilleur voisin  0  :  [1, 1, 0, 0, 0, 0, 0, 0, 0, 0, 1, 1, 1, 0, 0]  val  0\n",
      "meilleur voisin  1  :  [0, 1, 0, 0, 0, 0, 0, 0, 0, 0, 1, 1, 1, 0, 0]  val  -8\n",
      "meilleur voisin  2  :  [0, 1, 0, 0, 0, 0, 0, 0, 0, 0, 1, 0, 1, 0, 0]  val  -12\n",
      "meilleur voisin  3  :  [0, 1, 0, 0, 0, 0, 0, 0, 1, 0, 1, 0, 1, 0, 0]  val  -16\n",
      "meilleur voisin  4  :  [0, 1, 0, 0, 0, 0, 0, 0, 1, 0, 1, 0, 1, 0, 1]  val  -12\n",
      "meilleur voisin  5  :  [0, 1, 0, 0, 0, 0, 0, 0, 1, 0, 1, 0, 0, 0, 1]  val  -16\n",
      "meilleur voisin  6  :  [0, 1, 0, 1, 0, 0, 0, 0, 1, 0, 1, 0, 0, 0, 1]  val  -20\n",
      "meilleur voisin  7  :  [0, 1, 0, 1, 0, 0, 0, 0, 1, 0, 1, 0, 0, 0, 0]  val  -16\n",
      "meilleur voisin  8  :  [0, 1, 0, 1, 0, 0, 0, 0, 1, 0, 1, 0, 1, 0, 0]  val  -12\n",
      "meilleur voisin  9  :  [0, 1, 0, 1, 0, 0, 0, 0, 1, 0, 1, 0, 1, 0, 1]  val  -8\n",
      "meilleur voisin  10  :  [0, 1, 0, 1, 0, 0, 0, 0, 1, 0, 0, 0, 1, 0, 1]  val  -4\n",
      "meilleur voisin  11  :  [0, 1, 0, 1, 0, 0, 0, 0, 1, 0, 0, 0, 0, 0, 1]  val  -16\n",
      "meilleur voisin  12  :  [0, 1, 0, 1, 0, 0, 0, 0, 1, 0, 0, 0, 0, 0, 0]  val  -12\n",
      "meilleur voisin  13  :  [0, 1, 0, 1, 0, 0, 0, 0, 1, 0, 0, 0, 0, 1, 0]  val  -8\n",
      "meilleur voisin  14  :  [0, 0, 0, 1, 0, 0, 0, 0, 1, 0, 0, 0, 0, 1, 0]  val  -12\n",
      "Solution atteinte  [0, 1, 0, 1, 0, 0, 0, 0, 1, 0, 1, 0, 0, 0, 1] , avec nb deplacement:  15 \n",
      " Tabou : [ [[1, 1, 0, 0, 0, 0, 0, 0, 0, 0, 1, 1, 1, 0, 0], [0, 1, 0, 0, 0, 0, 0, 0, 0, 0, 1, 1, 1, 0, 0], [0, 1, 0, 0, 0, 0, 0, 0, 0, 0, 1, 0, 1, 0, 0], [0, 1, 0, 0, 0, 0, 0, 0, 1, 0, 1, 0, 1, 0, 0], [0, 1, 0, 0, 0, 0, 0, 0, 1, 0, 1, 0, 1, 0, 1], [0, 1, 0, 0, 0, 0, 0, 0, 1, 0, 1, 0, 0, 0, 1], [0, 1, 0, 1, 0, 0, 0, 0, 1, 0, 1, 0, 0, 0, 1], [0, 1, 0, 1, 0, 0, 0, 0, 1, 0, 1, 0, 0, 0, 0], [0, 1, 0, 1, 0, 0, 0, 0, 1, 0, 1, 0, 1, 0, 0], [0, 1, 0, 1, 0, 0, 0, 0, 1, 0, 1, 0, 1, 0, 1], [0, 1, 0, 1, 0, 0, 0, 0, 1, 0, 0, 0, 1, 0, 1], [0, 1, 0, 1, 0, 0, 0, 0, 1, 0, 0, 0, 0, 0, 1], [0, 1, 0, 1, 0, 0, 0, 0, 1, 0, 0, 0, 0, 0, 0], [0, 1, 0, 1, 0, 0, 0, 0, 1, 0, 0, 0, 0, 1, 0], [0, 0, 0, 1, 0, 0, 0, 0, 1, 0, 0, 0, 0, 1, 0]] ]\n",
      "Optimal Tabou solution:  [0, 1, 0, 1, 0, 0, 0, 0, 1, 0, 1, 0, 0, 0, 1] -20\n"
     ]
    }
   ],
   "source": [
    "#---- read from file vector size N, verification P and matrix Q \n",
    "n,p,Q = read_file_ubgp(\"data/graphe12345bis.txt\")\n",
    "# print(n,p,Q)\n",
    "\n",
    "MAX_essais = 10\n",
    "MAX_depl = 15\n",
    "\n",
    "solutions = []\n",
    "solutions_ubgp = []\n",
    "s = [0, 0, 0, 0, 0, 0, 0, 0, 0, 0, 0, 0, 0, 0, 0]\n",
    "s = create_rand_bit_vector(n)\n",
    "\n",
    "\n",
    "#---- for each essais make max depl to find MIN opt in Steepest Hill\n",
    "print(\"-----------STEEPEST HILL CLIMB---------\")\n",
    "for i in range(MAX_essais):\n",
    "    print(\"Essais \", i)\n",
    "    solutions.append(steepest_hill_climbing(s,Q,p,MAX_depl))\n",
    "    s = create_rand_bit_vector(n)\n",
    "    \n",
    "#---- print all essais solutions\n",
    "for sol in solutions:\n",
    "    ubgp = UBGP(Q,sol)\n",
    "    solutions_ubgp.append(ubgp)\n",
    "    print(sol,\": \",ubgp)\n",
    "\n",
    "#---- from all essais solutions which one is best\n",
    "optimal = solutions[solutions_ubgp.index(min(solutions_ubgp))]\n",
    "print(\"Optimal : \",optimal, UBGP(Q,optimal))\n",
    "\n",
    "#---- Tabou\n",
    "print(\"-----------TABOU----------\")\n",
    "k = 20\n",
    "sol_tabou = tabou(s,Q,p,MAX_depl,k)\n",
    "print(\"Optimal Tabou solution: \",sol_tabou,UBGP(Q,sol_tabou))\n",
    "\n"
   ]
  },
  {
   "cell_type": "markdown",
   "metadata": {},
   "source": [
    "# Ex 2. Traveling Salesman\n",
    "---"
   ]
  },
  {
   "cell_type": "markdown",
   "metadata": {},
   "source": [
    "### Reading TSP file ex. `tsp_.txt`"
   ]
  },
  {
   "cell_type": "code",
   "execution_count": 83,
   "metadata": {},
   "outputs": [],
   "source": [
    "# Read file\n",
    "def read_file_tsp(file_path):\n",
    "    f = open (file_path , 'r')\n",
    "    l = [line.split() for line in f]\n",
    "    #l.astype(int)\n",
    "    #l = list(map(int, l))\n",
    "    n = l[0][0]\n",
    "    villes = l[1:]\n",
    "    f.close()\n",
    "    return(n,villes)"
   ]
  },
  {
   "cell_type": "code",
   "execution_count": 84,
   "metadata": {},
   "outputs": [],
   "source": [
    "import numpy as np\n",
    "\n",
    "# returns a random path from villes[0] city\n",
    "def chemin_random(villes):\n",
    "    chemin = []\n",
    "    chemin.append(villes[0]) # first city static \n",
    "    copy_villes = villes.copy()\n",
    "    for i in range(1,len(copy_villes)):\n",
    "        randomRow = np.random.randint(low=1,high=len(copy_villes), size=1)\n",
    "        chemin.append(copy_villes[randomRow[0]])\n",
    "        del copy_villes[randomRow[0]]\n",
    "    chemin.append(villes[0]) # return at the same city\n",
    "    return chemin"
   ]
  },
  {
   "cell_type": "markdown",
   "metadata": {},
   "source": [
    "###  Calculating distance "
   ]
  },
  {
   "cell_type": "code",
   "execution_count": 85,
   "metadata": {},
   "outputs": [],
   "source": [
    "import math\n",
    "\n",
    "def eucledian(ville1, ville2):\n",
    "    return math.sqrt((int(ville1[1]) - int(ville2[1]))**2 + (int(ville1[2]) - int(ville2[2]))**2)"
   ]
  },
  {
   "cell_type": "code",
   "execution_count": 86,
   "metadata": {},
   "outputs": [],
   "source": [
    "def distance(chemin):\n",
    "    distance = 0\n",
    "    for i in range(0,len(chemin)-1):\n",
    "        distance = distance + eucledian(chemin[i],chemin[i+1])\n",
    "    return distance"
   ]
  },
  {
   "cell_type": "code",
   "execution_count": 87,
   "metadata": {},
   "outputs": [],
   "source": [
    "def voisin_tsp(chemin): \n",
    "    n = len(chemin)\n",
    "    voisins = []\n",
    "    for i in range(1,n-1):\n",
    "        for j in range(i+1,n-1):\n",
    "            chemin_copy =  chemin.copy()\n",
    "            # replace city i with city j \n",
    "            temp = chemin_copy[i].copy()\n",
    "            chemin_copy[i] = chemin_copy[j]\n",
    "            chemin_copy[j] = temp\n",
    "            \n",
    "            voisins.append(chemin_copy)\n",
    "    return voisins"
   ]
  },
  {
   "cell_type": "code",
   "execution_count": 88,
   "metadata": {},
   "outputs": [],
   "source": [
    "def meilleur_voisin_tsp(chemin):\n",
    "    voisins = voisin_tsp(chemin)\n",
    "    msol = voisins[0]\n",
    "    for i in range(1,len(voisins)):\n",
    "        if(distance(voisins[i]) < distance(msol)):\n",
    "            msol = voisins[i]\n",
    "    return (msol)"
   ]
  },
  {
   "cell_type": "code",
   "execution_count": 89,
   "metadata": {},
   "outputs": [],
   "source": [
    "def meilleur_tsp(chemin1, chemin2):\n",
    "    if(len(chemin1) != len(chemin2)):\n",
    "        print(\"ERROR : NOT SAME LENGHT OF CHEMINS\")\n",
    "    else:\n",
    "        d1 = 0\n",
    "        d2 = 0\n",
    "        for i in range(0,len(chemin1)-1):\n",
    "            d1 = d1 + eucledian(chemin1[i], chemin1[i+1])\n",
    "            d2 = d2 + eucledian(chemin2[i], chemin2[i+1])\n",
    "    return d1 < d2"
   ]
  },
  {
   "cell_type": "code",
   "execution_count": 102,
   "metadata": {},
   "outputs": [],
   "source": [
    "def voisins_non_tabou_tsp(chemin, tabou): \n",
    "    n = len(chemin)\n",
    "    voisins = []\n",
    "    for i in range(1,n-1):\n",
    "        for j in range(i+1,n-1):\n",
    "            chemin_copy =  chemin.copy()\n",
    "            \n",
    "            # replace city i with city j \n",
    "            temp = chemin_copy[i].copy()\n",
    "            chemin_copy[i] = chemin_copy[j]\n",
    "            chemin_copy[j] = temp\n",
    "            \n",
    "            if(chemin_copy not in tabou):\n",
    "                voisins.append(chemin_copy)\n",
    "    return voisins"
   ]
  },
  {
   "cell_type": "code",
   "execution_count": 103,
   "metadata": {},
   "outputs": [],
   "source": [
    "def meilleur_voisin_non_tabou_tsp(chemin, tabou):\n",
    "    voisins = voisins_non_tabou_tsp(chemin, tabou)\n",
    "    msol = voisins[0]\n",
    "    for i in range(1,len(voisins)):\n",
    "        if(distance(voisins[i]) < distance(msol)):\n",
    "            msol = voisins[i]\n",
    "    return (msol)"
   ]
  },
  {
   "cell_type": "markdown",
   "metadata": {},
   "source": [
    "### Steepest Hill Climbing for TSP"
   ]
  },
  {
   "cell_type": "code",
   "execution_count": 104,
   "metadata": {},
   "outputs": [],
   "source": [
    "def steepest_hill_climbing_tsp(s,MAX_depl):\n",
    "    nb_depl = 0\n",
    "    stop = False\n",
    "    print(\"Solution initial \",s)\n",
    "    while(True):\n",
    "        new_s = meilleur_voisin_tsp(s)\n",
    "        print(\"meilleur voisin \",nb_depl,\" : \\n\",new_s,\"\\n val \",distance(new_s))\n",
    "        if(meilleur_tsp(new_s,s)):\n",
    "            s = new_s\n",
    "        else:\n",
    "            stop = True # optimum local\n",
    "        nb_depl = nb_depl+1\n",
    "        if(stop or nb_depl == MAX_depl):\n",
    "            break;\n",
    "    print(\"Solution atteinte \",s, \"\\n avec nb deplacement: \", nb_depl,\"val \", distance(s))\n",
    "    return s"
   ]
  },
  {
   "cell_type": "markdown",
   "metadata": {},
   "source": [
    "### Tabou TSP"
   ]
  },
  {
   "cell_type": "code",
   "execution_count": 114,
   "metadata": {},
   "outputs": [],
   "source": [
    "def tabou_tsp(s, MAX_depl, k):\n",
    "    tabou = []\n",
    "    nb_depl = 0\n",
    "    msol = s\n",
    "    stop = False\n",
    "    print(\"Solution initial \",s)\n",
    "    while(True):\n",
    "        if(voisins_non_tabou_tsp(s,tabou)):\n",
    "            new_s = meilleur_voisin_non_tabou_tsp(s,tabou) #plus de voisin non tabou\n",
    "            print(\"meilleur voisin \", nb_depl,\" : \",new_s,\" val \",distance(new_s))\n",
    "        else:\n",
    "            stop = True\n",
    "        s = new_s\n",
    "        tabou.append(s)\n",
    "        tabou = tabou[:k] #max size \n",
    "        if(meilleur_tsp(new_s, msol)):\n",
    "            msol = new_s #stockage meilleure solution courante\n",
    "        nb_depl = nb_depl + 1\n",
    "        if(nb_depl == MAX_depl or stop):\n",
    "            break\n",
    "    print(\"Solution atteinte \",msol, \"\\n avec nb deplacement: \", nb_depl,\" val \", distance(msol),\"\\n Tabou : \",tabou)\n",
    "    return msol"
   ]
  },
  {
   "cell_type": "markdown",
   "metadata": {},
   "source": [
    "### Main TSP"
   ]
  },
  {
   "cell_type": "code",
   "execution_count": 118,
   "metadata": {},
   "outputs": [
    {
     "name": "stdout",
     "output_type": "stream",
     "text": [
      "[['0', '0', '0'], ['1', '40', '50'], ['2', '25', '85'], ['3', '22', '75'], ['4', '22', '85'], ['5', '20', '80']]\n",
      "[['0', '0', '0'], ['1', '40', '50'], ['3', '22', '75'], ['2', '25', '85'], ['4', '22', '85'], ['5', '20', '80'], ['0', '0', '0']] 196.12466980422548\n",
      "-----------TABOU----------\n",
      "Solution initial  [['0', '0', '0'], ['1', '40', '50'], ['3', '22', '75'], ['2', '25', '85'], ['4', '22', '85'], ['5', '20', '80'], ['0', '0', '0']]\n",
      "meilleur voisin  0  :  [['0', '0', '0'], ['1', '40', '50'], ['3', '22', '75'], ['5', '20', '80'], ['4', '22', '85'], ['2', '25', '85'], ['0', '0', '0']]  val  197.20764132344294\n",
      "meilleur voisin  1  :  [['0', '0', '0'], ['1', '40', '50'], ['3', '22', '75'], ['2', '25', '85'], ['4', '22', '85'], ['5', '20', '80'], ['0', '0', '0']]  val  196.12466980422548\n",
      "meilleur voisin  2  :  [['0', '0', '0'], ['1', '40', '50'], ['3', '22', '75'], ['4', '22', '85'], ['2', '25', '85'], ['5', '20', '80'], ['0', '0', '0']]  val  197.3702663000459\n",
      "meilleur voisin  3  :  [['0', '0', '0'], ['1', '40', '50'], ['5', '20', '80'], ['4', '22', '85'], ['2', '25', '85'], ['3', '22', '75'], ['0', '0', '0']]  val  197.07231856368998\n",
      "meilleur voisin  4  :  [['0', '0', '0'], ['3', '22', '75'], ['5', '20', '80'], ['4', '22', '85'], ['2', '25', '85'], ['1', '40', '50'], ['0', '0', '0']]  val  194.04052963659356\n",
      "Solution atteinte  [['0', '0', '0'], ['3', '22', '75'], ['5', '20', '80'], ['4', '22', '85'], ['2', '25', '85'], ['1', '40', '50'], ['0', '0', '0']] \n",
      " avec nb deplacement:  5  val  194.04052963659356 \n",
      " Tabou :  [[['0', '0', '0'], ['1', '40', '50'], ['3', '22', '75'], ['5', '20', '80'], ['4', '22', '85'], ['2', '25', '85'], ['0', '0', '0']], [['0', '0', '0'], ['1', '40', '50'], ['3', '22', '75'], ['2', '25', '85'], ['4', '22', '85'], ['5', '20', '80'], ['0', '0', '0']], [['0', '0', '0'], ['1', '40', '50'], ['3', '22', '75'], ['4', '22', '85'], ['2', '25', '85'], ['5', '20', '80'], ['0', '0', '0']]]\n",
      "[['0', '0', '0'], ['3', '22', '75'], ['5', '20', '80'], ['4', '22', '85'], ['2', '25', '85'], ['1', '40', '50'], ['0', '0', '0']]\n"
     ]
    }
   ],
   "source": [
    "#---- read from file\n",
    "n, villes = read_file_tsp(\"data/tsp5.txt\")\n",
    "#print(n,villes)\n",
    "\n",
    "\n",
    "#---- add first static city/storage\n",
    "villes_with_start = [['0','0','0']]\n",
    "for i in range(len(villes)):\n",
    "    villes_with_start.append(villes[i])\n",
    "print(villes_with_start)\n",
    "\n",
    "\n",
    "#---- random initial solution\n",
    "chemin = chemin_random(villes_with_start)\n",
    "d = distance(chemin)\n",
    "print(chemin, d)\n",
    "\n",
    "\n",
    "# #---- for each essais make max depl to find MIN opt in Steepest Hill\n",
    "# print(\"-----------STEEPEST HILL CLIMB---------\")\n",
    "# MAX_essais = 3\n",
    "# solutions = []\n",
    "# for i in range(MAX_essais):\n",
    "#     print(\"Essais \", i)\n",
    "#     solutions.append(steepest_hill_climbing_tsp(chemin,MAX_depl))\n",
    "#     chemin = chemin_random(villes_with_start)\n",
    "    \n",
    "# #---- print all essais solutions\n",
    "# solutions_distance = []\n",
    "# for sol in solutions:\n",
    "#     distance_sol = distance(sol)\n",
    "#     solutions_distance.append(distance_sol)\n",
    "#     print(sol,\": \",distance_sol)\n",
    "\n",
    "# #---- from all essais solutions which one is best\n",
    "# optimal = solutions[solutions_distance.index(min(solutions_distance))]\n",
    "# print(\"Optimal in all essais : \",optimal, distance(optimal))\n",
    "\n",
    "#---- Tabou\n",
    "print(\"-----------TABOU----------\")\n",
    "k = 3\n",
    "MAX_depl = 5\n",
    "print(tabou_tsp(chemin,MAX_depl,k))"
   ]
  },
  {
   "cell_type": "code",
   "execution_count": null,
   "metadata": {},
   "outputs": [],
   "source": []
  },
  {
   "cell_type": "code",
   "execution_count": null,
   "metadata": {},
   "outputs": [],
   "source": []
  },
  {
   "cell_type": "code",
   "execution_count": null,
   "metadata": {},
   "outputs": [],
   "source": []
  }
 ],
 "metadata": {
  "kernelspec": {
   "display_name": "Python 3",
   "language": "python",
   "name": "python3"
  },
  "language_info": {
   "codemirror_mode": {
    "name": "ipython",
    "version": 3
   },
   "file_extension": ".py",
   "mimetype": "text/x-python",
   "name": "python",
   "nbconvert_exporter": "python",
   "pygments_lexer": "ipython3",
   "version": "3.6.9"
  }
 },
 "nbformat": 4,
 "nbformat_minor": 2
}
