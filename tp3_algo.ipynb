{
 "cells": [
  {
   "cell_type": "markdown",
   "metadata": {},
   "source": [
    "# Algo TP3 "
   ]
  },
  {
   "cell_type": "markdown",
   "metadata": {},
   "source": [
    "# Ex 1. Chaine de 0 et 1 qui resoud un UBQP\n",
    "---"
   ]
  },
  {
   "cell_type": "markdown",
   "metadata": {},
   "source": [
    "### Reading Bit file ex `graphe_.txt`"
   ]
  },
  {
   "cell_type": "code",
   "execution_count": 50,
   "metadata": {},
   "outputs": [],
   "source": [
    "# Read file\n",
    "def read_file_ubgp(file_path):\n",
    "    f = open(file_path, \"r\")\n",
    "    \n",
    "    content = f.read()\n",
    "    content = content.replace(\"\\n\", \"\")\n",
    "    content_list = content.split(\" \")\n",
    "    content_list = list(map(int, content_list))\n",
    "    \n",
    "    n = content_list[0]\n",
    "    p = content_list[1]\n",
    "    Q = np.array(content_list[2:])\n",
    "    Q.shape = ((n,n))\n",
    "    \n",
    "    f.close()\n",
    "    return(n,p,Q)"
   ]
  },
  {
   "cell_type": "code",
   "execution_count": 51,
   "metadata": {},
   "outputs": [],
   "source": [
    "import numpy as np\n",
    "\n",
    "def create_rand_bit_vector(n):\n",
    "    return [np.random.choice([0,1]) for i in range(n)]"
   ]
  },
  {
   "cell_type": "markdown",
   "metadata": {},
   "source": [
    "### Neighbours"
   ]
  },
  {
   "cell_type": "code",
   "execution_count": 52,
   "metadata": {},
   "outputs": [],
   "source": [
    "# Unconstrained Binary Quadratic Problem\n",
    "def UBGP(matrix,X):        \n",
    "    #result = np.apply_along_axis((lambda row: row*X), axis=1, arr=matrix).sum(axis=1)\n",
    "    res = 0\n",
    "    for i in range(len(matrix)):\n",
    "        for j in range(len(matrix[0])):\n",
    "            res += matrix[i,j]*X[i]*X[j]\n",
    "        \n",
    "    return res"
   ]
  },
  {
   "cell_type": "code",
   "execution_count": 53,
   "metadata": {},
   "outputs": [],
   "source": [
    "def voisins(s):\n",
    "    voisins = []\n",
    "    temp = []\n",
    "    for i in range(len(s)):\n",
    "        temp = s.copy()\n",
    "        temp[i] = int(not temp[i])\n",
    "        voisins.append(temp) \n",
    "    return voisins"
   ]
  },
  {
   "cell_type": "code",
   "execution_count": 54,
   "metadata": {},
   "outputs": [],
   "source": [
    "def meilleur_voisin(X,p,Q):\n",
    "    solutions  = []\n",
    "    neighbours = []\n",
    "    neighbours = voisins(X)\n",
    "    s = neighbours[0]\n",
    "    for i in range(1,len(neighbours)):\n",
    "        #diff = (np.array(neighbour) == np.array(X))\n",
    "        #if(sum(diff) >= len(X)-1 and sum(diff)>=p):\n",
    "        if(sum(neighbours[i])>=p and UBGP(Q,neighbours[i])<=UBGP(Q,s)):\n",
    "            s = neighbours[i]\n",
    "    #randomRow = np.random.randint(len(solutions), size=1)\n",
    "    #return (solutions[randomRow[0]])\n",
    "    return s"
   ]
  },
  {
   "cell_type": "code",
   "execution_count": 55,
   "metadata": {},
   "outputs": [],
   "source": [
    "def meilleur(s1, s2, Q): #MIN OPT?\n",
    "    return(UBGP(Q,s1)<UBGP(Q,s2))"
   ]
  },
  {
   "cell_type": "code",
   "execution_count": 84,
   "metadata": {},
   "outputs": [],
   "source": [
    "def voisins_non_Tabou(s,tabou):\n",
    "    voisins = []\n",
    "    temp = []\n",
    "    for i in range(len(s)):\n",
    "        temp = s.copy()\n",
    "        temp[i] = int(not temp[i])\n",
    "        if(temp not in tabou):\n",
    "            voisins.append(temp) \n",
    "    return voisins"
   ]
  },
  {
   "cell_type": "code",
   "execution_count": 109,
   "metadata": {},
   "outputs": [],
   "source": [
    "def meilleur_voisin_non_tabou(X,Q,p,t):\n",
    "    solutions  = []\n",
    "    neighbours = []\n",
    "    neighbours = voisins_non_Tabou(X,t)\n",
    "    s = neighbours[0]\n",
    "    for i in range(1,len(neighbours)):\n",
    "        if(sum(neighbours[i])>=p and UBGP(Q,neighbours[i])<=UBGP(Q,s)):\n",
    "            s = neighbours[i]\n",
    "    return s"
   ]
  },
  {
   "cell_type": "markdown",
   "metadata": {},
   "source": [
    "### Algorithms "
   ]
  },
  {
   "cell_type": "code",
   "execution_count": 110,
   "metadata": {},
   "outputs": [],
   "source": [
    "def steepest_hill_climbing(s,Q,p,MAX_depl):\n",
    "    nb_depl = 0\n",
    "    stop = False\n",
    "    print(\"Solution inital : \", s)\n",
    "    while(True):\n",
    "        new_s = meilleur_voisin(s,p,Q)\n",
    "        if(meilleur(new_s,s,Q)):\n",
    "            s = new_s\n",
    "        else:\n",
    "            stop = True # optimum local\n",
    "        nb_depl += nb_depl\n",
    "        if(stop or nb_depl == MAX_depl):\n",
    "            break;\n",
    "        print(\"Solution atteinte \",s,\", avec nb deplacement: \", MAX_depl)\n",
    "    return s"
   ]
  },
  {
   "cell_type": "code",
   "execution_count": 111,
   "metadata": {},
   "outputs": [],
   "source": [
    "from queue import Queue\n",
    "\n",
    "def tabou(s,Q,p,MAX_depl,k):\n",
    "    #tabou = Queue(maxsize = k)\n",
    "    tabou = []\n",
    "    nb_depl = 0\n",
    "    msol = s\n",
    "    stop = False\n",
    "    while(True):\n",
    "        if(voisins_non_Tabou(s,tabou)):\n",
    "            new_s = meilleur_voisin_non_tabou(s,Q,p,tabou) #plus de voisin non tabou\n",
    "        else:\n",
    "            stop = True\n",
    "        #tabou.put(s)\n",
    "        tabou.append(s)\n",
    "        tabou = tabou[:k] #max size \n",
    "        if(meilleur(new_s, msol, Q)):\n",
    "            msol = new_s #stockage meilleure solution courante\n",
    "            s = new_s\n",
    "            nb_depl += nb_depl\n",
    "        if(nb_depl == MAX_depl or stop):\n",
    "            break\n",
    "    return msol        "
   ]
  },
  {
   "cell_type": "markdown",
   "metadata": {},
   "source": [
    "### Main Bit"
   ]
  },
  {
   "cell_type": "code",
   "execution_count": null,
   "metadata": {},
   "outputs": [],
   "source": [
    "#---- read from file vector size N, verification P and matrix Q \n",
    "n,p,Q = read_file_ubgp(\"data/partition6.txt\")\n",
    "\n",
    "MAX_essais = 3\n",
    "MAX_depl = 3\n",
    "\n",
    "solutions = []\n",
    "solutions_ubgp = []\n",
    "s = [1, 0, 0, 0, 1, 0]\n",
    "\n",
    "\n",
    "#---- for each essais make max depl to find MIN opt in Steepest Hill\n",
    "for i in range(MAX_essais):\n",
    "    solutions.append(steepest_hill_climbing(s,Q,p,MAX_depl))\n",
    "    s = create_rand_bit_vector(n)\n",
    "\n",
    "#---- print all essais solutions\n",
    "for sol in solutions:\n",
    "    ubgp = UBGP(Q,sol)\n",
    "    solutions_ubgp.append(ubgp)\n",
    "    print(sol,\": \",ubgp)\n",
    "\n",
    "#---- from all essais solutions which one is best\n",
    "print(\"Optimal : \",solutions[solutions_ubgp.index(min(solutions_ubgp))])\n",
    "\n",
    "#---- from all essais solutions which one is best\n",
    "print(tabou(s,Q,p,MAX_depl,1))"
   ]
  },
  {
   "cell_type": "markdown",
   "metadata": {},
   "source": [
    "# Ex 2. Traveling Salesman\n",
    "---"
   ]
  },
  {
   "cell_type": "markdown",
   "metadata": {},
   "source": [
    "### Reading TSP file ex. `tsp_.txt`"
   ]
  },
  {
   "cell_type": "code",
   "execution_count": 34,
   "metadata": {},
   "outputs": [],
   "source": [
    "# Read file\n",
    "def read_file_tsp(file_path):\n",
    "    f = open (file_path , 'r')\n",
    "    l = [line.split() for line in f]\n",
    "    #l.astype(int)\n",
    "    #l = list(map(int, l))\n",
    "    n = l[0][0]\n",
    "    villes = l[1:]\n",
    "    f.close()\n",
    "    return(n,villes)"
   ]
  },
  {
   "cell_type": "code",
   "execution_count": 35,
   "metadata": {},
   "outputs": [],
   "source": [
    "import numpy as np\n",
    "\n",
    "def chemin_random(villes):\n",
    "    chemin = []\n",
    "    copy_villes = villes.copy()\n",
    "    for i in range(len(copy_villes)):\n",
    "        #chemin = np.random.shuffle(villes)\n",
    "        randomRow = np.random.randint(len(copy_villes), size=1)\n",
    "        chemin.append(copy_villes[randomRow[0]])\n",
    "        del copy_villes[randomRow[0]]\n",
    "    return chemin"
   ]
  },
  {
   "cell_type": "markdown",
   "metadata": {},
   "source": [
    "###  Calculating distance "
   ]
  },
  {
   "cell_type": "code",
   "execution_count": 36,
   "metadata": {},
   "outputs": [],
   "source": [
    "import math\n",
    "\n",
    "def eucledian(vector1, vector2):\n",
    "    return math.sqrt((int(vector1[1]) - int(vector2[1]))**2 + (int(vector1[2]) - int(vector2[2]))**2)"
   ]
  },
  {
   "cell_type": "code",
   "execution_count": 37,
   "metadata": {},
   "outputs": [],
   "source": [
    "def distance(chemin):\n",
    "    distance = 0;\n",
    "    for i in range(0,len(chemin)-1):\n",
    "        distance += eucledian(chemin[i],chemin[i+1])\n",
    "    return distance"
   ]
  },
  {
   "cell_type": "code",
   "execution_count": 38,
   "metadata": {},
   "outputs": [],
   "source": [
    "import itertools\n",
    "\n",
    "def meilleur_voisin_tsp(X,villes):\n",
    "    msol = villes[0]\n",
    "    #permutations = list(itertools.permutations(villes, r=2))\n",
    "    for i in range(1,len(villes)):\n",
    "        if(eucledian(X, villes[i]) < eucledian(X, msol)):\n",
    "            msol = villes[i]\n",
    "    return (msol,eucledian(X, msol))"
   ]
  },
  {
   "cell_type": "code",
   "execution_count": 39,
   "metadata": {},
   "outputs": [],
   "source": [
    "def meilleur_tsp(ville1, ville2):\n",
    "    return distance(ville1) <  distance(vllle2)"
   ]
  },
  {
   "cell_type": "markdown",
   "metadata": {},
   "source": [
    "### Steepest Hill Climbing for TSP"
   ]
  },
  {
   "cell_type": "code",
   "execution_count": 40,
   "metadata": {},
   "outputs": [],
   "source": [
    "def steepest_hill_climbing_tsp(s,villes,MAX_depl):\n",
    "    nb_depl = 0\n",
    "    stop = False\n",
    "    print(\"Solution initial \",s)\n",
    "    while(True):\n",
    "        new_s = meilleur_voisin_tsp(s,villes)\n",
    "        if(meilleur(new_s,s)):\n",
    "            s = new_s\n",
    "        else:\n",
    "            stop = True # optimum local\n",
    "        nb_depl += nb_depl\n",
    "        if(not stop and nb_depl != MAX_depl):\n",
    "            break;\n",
    "    print(\"Solution atteinte \",s, \", avec nb deplacement: \", nb_depl)\n",
    "    return s"
   ]
  },
  {
   "cell_type": "markdown",
   "metadata": {},
   "source": [
    "### Tabou TSP"
   ]
  },
  {
   "cell_type": "code",
   "execution_count": 41,
   "metadata": {},
   "outputs": [],
   "source": [
    "import queue\n",
    "\n",
    "def tabou_tsp(s, k):\n",
    "    tabou = queue.Queue()\n",
    "    nb_depl = 0\n",
    "    msol = s\n",
    "    stop = false\n",
    "    while(True):\n",
    "        if(not voisins_non_Tabou(s)):\n",
    "            new_s = meilleur_voisin_non_Tabou(s) #plus de voisin non tabou\n",
    "        else:\n",
    "            stop = True\n",
    "        tabou.put(s)\n",
    "        if(meilleur(new_s, msol)):\n",
    "            msol = new_s #stockage meilleure solution courante\n",
    "            s = new_s\n",
    "            nb_depl += nb_depl\n",
    "        if(nb_depl != MAX_depl and not stop):\n",
    "            break\n",
    "    return msol"
   ]
  },
  {
   "cell_type": "markdown",
   "metadata": {},
   "source": [
    "### Main TSP"
   ]
  },
  {
   "cell_type": "code",
   "execution_count": 42,
   "metadata": {},
   "outputs": [
    {
     "name": "stdout",
     "output_type": "stream",
     "text": [
      "5 [['1', '40', '50'], ['2', '25', '85'], ['3', '22', '75'], ['4', '22', '85'], ['5', '20', '80']]\n",
      "[['3', '22', '75'], ['1', '40', '50'], ['4', '22', '85'], ['2', '25', '85'], ['5', '20', '80']]\n",
      "80.23424872167305\n",
      "(['3', '22', '75'], 30.805843601498726)\n"
     ]
    }
   ],
   "source": [
    "n, villes = read_file_tsp(\"data/tsp5.txt\")\n",
    "print(n,villes)\n",
    "chemin = chemin_random(villes)\n",
    "print(chemin)\n",
    "d = distance(chemin)\n",
    "print(d)\n",
    "print(meilleur_voisin_tsp(villes[0],villes[1:]))"
   ]
  },
  {
   "cell_type": "code",
   "execution_count": null,
   "metadata": {},
   "outputs": [],
   "source": []
  },
  {
   "cell_type": "code",
   "execution_count": null,
   "metadata": {},
   "outputs": [],
   "source": []
  }
 ],
 "metadata": {
  "kernelspec": {
   "display_name": "Python 3",
   "language": "python",
   "name": "python3"
  },
  "language_info": {
   "codemirror_mode": {
    "name": "ipython",
    "version": 3
   },
   "file_extension": ".py",
   "mimetype": "text/x-python",
   "name": "python",
   "nbconvert_exporter": "python",
   "pygments_lexer": "ipython3",
   "version": "3.6.9"
  }
 },
 "nbformat": 4,
 "nbformat_minor": 2
}
