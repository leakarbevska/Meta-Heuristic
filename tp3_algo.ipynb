{
 "cells": [
  {
   "cell_type": "markdown",
   "metadata": {},
   "source": [
    "# Algo TP3 "
   ]
  },
  {
   "cell_type": "markdown",
   "metadata": {},
   "source": [
    "## Ex 1. Chaine de 0 et 1 qui resoud un UBQP"
   ]
  },
  {
   "cell_type": "code",
   "execution_count": 153,
   "metadata": {},
   "outputs": [],
   "source": [
    "# Unconstrained Binary Quadratic Problem\n",
    "def UBGP(matrix,X):\n",
    "    n = len(matrix)\n",
    "    m = len(matrix[0])\n",
    "        \n",
    "    #result = np.apply_along_axis((lambda row: row*X), axis=1, arr=matrix).sum(axis=1)\n",
    "    res = 0\n",
    "    for i in range(len(matrix)):\n",
    "        for j in range(len(matrix[0])):\n",
    "            res += matrix[i,j]*X[i]*X[j]\n",
    "        \n",
    "    return res"
   ]
  },
  {
   "cell_type": "code",
   "execution_count": 154,
   "metadata": {},
   "outputs": [],
   "source": [
    "# Read file\n",
    "def read_file(file_path):\n",
    "    f = open(file_path, \"r\")\n",
    "    content = f.read()\n",
    "    content = content.replace(\"\\n\", \"\")\n",
    "    content_list = content.split(\" \")\n",
    "    content_list = list(map(int, content_list))\n",
    "    n = content_list[0]\n",
    "    p = content_list[1]\n",
    "    Q = np.array(content_list[2:])\n",
    "    Q.shape = ((n,n))\n",
    "    f.close()\n",
    "    return(n,p,Q)"
   ]
  },
  {
   "cell_type": "code",
   "execution_count": 155,
   "metadata": {},
   "outputs": [],
   "source": [
    "import numpy as np\n",
    "\n",
    "def create_rand_bit_vector(n):\n",
    "    return [np.random.choice([0,1]) for i in range(n)]"
   ]
  },
  {
   "cell_type": "code",
   "execution_count": 224,
   "metadata": {},
   "outputs": [],
   "source": [
    "def meilleur_voisin(X,neighbours,p):\n",
    "    solutions = []\n",
    "    \n",
    "    for neighbour in neighbours:\n",
    "        diff = (np.array(neighbour) == np.array(X))\n",
    "        if(sum(diff) >= len(X)-1 and  sum(diff)>=p):\n",
    "            solutions.append(neighbour)\n",
    "            \n",
    "    randomRow = np.random.randint(len(solutions), size=1)\n",
    "            \n",
    "    return (solutions[randomRow[0]])"
   ]
  },
  {
   "cell_type": "code",
   "execution_count": null,
   "metadata": {},
   "outputs": [],
   "source": [
    "MAX_depl = 5\n",
    "\n",
    "def steepest_hill_climbing(s):\n",
    "    nb_depl = 0\n",
    "    stop = False\n",
    "    while(True):\n",
    "        new_s = meilleur_voisin(s)\n",
    "        if(meilleur(new_s,s)):\n",
    "            s = new_s\n",
    "        else:\n",
    "            stop = true # optimum local\n",
    "        nb_depl++\n",
    "        if(not stop and nb_depl != MAX_depl)\n",
    "            break;\n",
    "    return s"
   ]
  },
  {
   "cell_type": "code",
   "execution_count": null,
   "metadata": {},
   "outputs": [],
   "source": [
    "for i in range(MAX_essais):\n",
    "    steepest_hill_climbing(s)"
   ]
  },
  {
   "cell_type": "code",
   "execution_count": null,
   "metadata": {},
   "outputs": [],
   "source": [
    "import queue\n",
    "\n",
    "def tabou(s, k):\n",
    "    tabou = queue.Queue()\n",
    "    nb_depl = 0\n",
    "    msol = s\n",
    "    stop = false\n",
    "    while(True):\n",
    "        if(not voisins_non_Tabou(s)):\n",
    "            new_s = meilleur_voisin_non_Tabou(s) #plus de voisin non tabou\n",
    "        else:\n",
    "            stop = True\n",
    "        tabou.put(s)\n",
    "        if(meilleur(new_s, msol)):\n",
    "            msol = new_s #stockage meilleure solution courante\n",
    "            s = new_s\n",
    "            nb_depl++\n",
    "        if(nb_depl != MAX_depl and not stop):\n",
    "            break\n",
    "    return msol        "
   ]
  },
  {
   "cell_type": "code",
   "execution_count": 226,
   "metadata": {},
   "outputs": [
    {
     "name": "stdout",
     "output_type": "stream",
     "text": [
      "[[-17  10  10  10   0  20]\n",
      " [ 10 -18  10  10  10  20]\n",
      " [ 10  10 -29  10  20  20]\n",
      " [ 10  10  10 -19  10  10]\n",
      " [  0  10  20  10 -17  10]\n",
      " [ 20  20  20  10  10 -28]]\n",
      "6\n",
      "[1, 1, 1, 1, 0, 0]\n"
     ]
    }
   ],
   "source": [
    "Q = []\n",
    "X = []\n",
    "n,p,Q = read_file(\"partition6.txt\")\n",
    "X = create_rand_bit_vector(n)\n",
    "print(Q)\n",
    "X = [1,1,0,1,0,0]\n",
    "print(UBGP(Q,X))\n",
    "neighboors = [[1,0,0,0,0,0],[1,1,0,1,0,0],[1,1,1,1,0,0],[1, 0, 1, 1, 0, 0]]\n",
    "print(meilleur_voisin(X, neighboors, p))"
   ]
  },
  {
   "cell_type": "markdown",
   "metadata": {},
   "source": [
    "## EX 2 Traveling Salesman"
   ]
  },
  {
   "cell_type": "code",
   "execution_count": null,
   "metadata": {},
   "outputs": [],
   "source": []
  }
 ],
 "metadata": {
  "kernelspec": {
   "display_name": "Python 3",
   "language": "python",
   "name": "python3"
  },
  "language_info": {
   "codemirror_mode": {
    "name": "ipython",
    "version": 3
   },
   "file_extension": ".py",
   "mimetype": "text/x-python",
   "name": "python",
   "nbconvert_exporter": "python",
   "pygments_lexer": "ipython3",
   "version": "3.6.9"
  }
 },
 "nbformat": 4,
 "nbformat_minor": 2
}
